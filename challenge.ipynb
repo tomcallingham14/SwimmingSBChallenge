{
 "cells": [
  {
   "cell_type": "markdown",
   "source": "## Swimming PSB Challenge\n\n> In the challenge you'll be wrangling the the `swimming_psb` data set to produce the output shown at the bottom of this notebook.\n\n> Keep a [Cheatsheet](https://github.com/pandas-dev/pandas/blob/master/doc/cheatsheet/Pandas_Cheat_Sheet.pdf) handy? or the [Pandas API Reference in Docs](https://pandas.pydata.org/pandas-docs/stable/reference/index.html)?",
   "metadata": {
    "tags": [],
    "cell_id": "00000-51d21a73-5397-4136-91bd-c5b8039be546",
    "output_cleared": false,
    "deepnote_cell_type": "markdown"
   }
  },
  {
   "cell_type": "code",
   "metadata": {
    "tags": [],
    "cell_id": "00001-ad803c0a-733d-457e-a585-8b591b7e8944",
    "execution_millis": 196,
    "deepnote_to_be_reexecuted": false,
    "source_hash": "cd50ee",
    "execution_start": 1616757692023,
    "deepnote_cell_type": "code"
   },
   "source": "import pandas as pd\n\npsb_df = pd.read_csv('data/swimming_psb_data.csv')\n\npsb_df.info()\npsb_df.head()",
   "execution_count": null,
   "outputs": [
    {
     "name": "stdout",
     "text": "<class 'pandas.core.frame.DataFrame'>\nRangeIndex: 16948 entries, 0 to 16947\nData columns (total 11 columns):\n #   Column         Non-Null Count  Dtype \n---  ------         --------------  ----- \n 0   c_Sport        16948 non-null  object\n 1   c_Season       16948 non-null  int64 \n 2   c_Event        16948 non-null  object\n 3   c_Gender       16948 non-null  object\n 4   n_DateSort     16948 non-null  int64 \n 5   c_Person       16640 non-null  object\n 6   c_PersonNatio  16640 non-null  object\n 7   c_NOC          16948 non-null  object\n 8   c_Result       16948 non-null  object\n 9   n_ResultSort   16948 non-null  int64 \n 10  c_Class        16948 non-null  object\ndtypes: int64(3), object(8)\nmemory usage: 1.4+ MB\n",
     "output_type": "stream"
    },
    {
     "output_type": "execute_result",
     "execution_count": 4,
     "data": {
      "application/vnd.deepnote.dataframe.v2+json": {
       "row_count": 5,
       "column_count": 11,
       "columns": [
        {
         "name": "c_Sport",
         "dtype": "object",
         "stats": {
          "unique_count": 1,
          "nan_count": 0,
          "categories": [
           {
            "name": "Swimming",
            "count": 5
           }
          ]
         }
        },
        {
         "name": "c_Season",
         "dtype": "int64",
         "stats": {
          "unique_count": 1,
          "nan_count": 0,
          "min": 2018,
          "max": 2018,
          "histogram": [
           {
            "bin_start": 2017.5,
            "bin_end": 2017.6,
            "count": 0
           },
           {
            "bin_start": 2017.6,
            "bin_end": 2017.7,
            "count": 0
           },
           {
            "bin_start": 2017.7,
            "bin_end": 2017.8,
            "count": 0
           },
           {
            "bin_start": 2017.8,
            "bin_end": 2017.9,
            "count": 0
           },
           {
            "bin_start": 2017.9,
            "bin_end": 2018,
            "count": 0
           },
           {
            "bin_start": 2018,
            "bin_end": 2018.1,
            "count": 5
           },
           {
            "bin_start": 2018.1,
            "bin_end": 2018.2,
            "count": 0
           },
           {
            "bin_start": 2018.2,
            "bin_end": 2018.3,
            "count": 0
           },
           {
            "bin_start": 2018.3,
            "bin_end": 2018.4,
            "count": 0
           },
           {
            "bin_start": 2018.4,
            "bin_end": 2018.5,
            "count": 0
           }
          ]
         }
        },
        {
         "name": "c_Event",
         "dtype": "object",
         "stats": {
          "unique_count": 1,
          "nan_count": 0,
          "categories": [
           {
            "name": "100m Backstroke",
            "count": 5
           }
          ]
         }
        },
        {
         "name": "c_Gender",
         "dtype": "object",
         "stats": {
          "unique_count": 1,
          "nan_count": 0,
          "categories": [
           {
            "name": "Men",
            "count": 5
           }
          ]
         }
        },
        {
         "name": "n_DateSort",
         "dtype": "int64",
         "stats": {
          "unique_count": 5,
          "nan_count": 0,
          "min": 20180728,
          "max": 20180822,
          "histogram": [
           {
            "bin_start": 20180728,
            "bin_end": 20180737.4,
            "count": 1
           },
           {
            "bin_start": 20180737.4,
            "bin_end": 20180746.8,
            "count": 0
           },
           {
            "bin_start": 20180746.8,
            "bin_end": 20180756.2,
            "count": 0
           },
           {
            "bin_start": 20180756.2,
            "bin_end": 20180765.6,
            "count": 0
           },
           {
            "bin_start": 20180765.6,
            "bin_end": 20180775,
            "count": 0
           },
           {
            "bin_start": 20180775,
            "bin_end": 20180784.4,
            "count": 0
           },
           {
            "bin_start": 20180784.4,
            "bin_end": 20180793.8,
            "count": 0
           },
           {
            "bin_start": 20180793.8,
            "bin_end": 20180803.2,
            "count": 0
           },
           {
            "bin_start": 20180803.2,
            "bin_end": 20180812.6,
            "count": 2
           },
           {
            "bin_start": 20180812.6,
            "bin_end": 20180822,
            "count": 2
           }
          ]
         }
        },
        {
         "name": "c_Person",
         "dtype": "object",
         "stats": {
          "unique_count": 5,
          "nan_count": 0,
          "categories": [
           {
            "name": "Ryan Murphy",
            "count": 1
           },
           {
            "name": "Xu Jiayu",
            "count": 1
           },
           {
            "name": "3 others",
            "count": 3
           }
          ]
         }
        },
        {
         "name": "c_PersonNatio",
         "dtype": "object",
         "stats": {
          "unique_count": 4,
          "nan_count": 0,
          "categories": [
           {
            "name": "United States",
            "count": 2
           },
           {
            "name": "China",
            "count": 1
           },
           {
            "name": "2 others",
            "count": 2
           }
          ]
         }
        },
        {
         "name": "c_NOC",
         "dtype": "object",
         "stats": {
          "unique_count": 4,
          "nan_count": 0,
          "categories": [
           {
            "name": "United States",
            "count": 2
           },
           {
            "name": "China",
            "count": 1
           },
           {
            "name": "2 others",
            "count": 2
           }
          ]
         }
        },
        {
         "name": "c_Result",
         "dtype": "object",
         "stats": {
          "unique_count": 5,
          "nan_count": 0,
          "categories": [
           {
            "name": "51.94",
            "count": 1
           },
           {
            "name": "52.30",
            "count": 1
           },
           {
            "name": "3 others",
            "count": 3
           }
          ]
         }
        },
        {
         "name": "n_ResultSort",
         "dtype": "int64",
         "stats": {
          "unique_count": 5,
          "nan_count": 0,
          "min": 51940,
          "max": 52550,
          "histogram": [
           {
            "bin_start": 51940,
            "bin_end": 52001,
            "count": 1
           },
           {
            "bin_start": 52001,
            "bin_end": 52062,
            "count": 0
           },
           {
            "bin_start": 52062,
            "bin_end": 52123,
            "count": 0
           },
           {
            "bin_start": 52123,
            "bin_end": 52184,
            "count": 0
           },
           {
            "bin_start": 52184,
            "bin_end": 52245,
            "count": 0
           },
           {
            "bin_start": 52245,
            "bin_end": 52306,
            "count": 1
           },
           {
            "bin_start": 52306,
            "bin_end": 52367,
            "count": 0
           },
           {
            "bin_start": 52367,
            "bin_end": 52428,
            "count": 0
           },
           {
            "bin_start": 52428,
            "bin_end": 52489,
            "count": 0
           },
           {
            "bin_start": 52489,
            "bin_end": 52550,
            "count": 3
           }
          ]
         }
        },
        {
         "name": "c_Class",
         "dtype": "object",
         "stats": {
          "unique_count": 1,
          "nan_count": 0,
          "categories": [
           {
            "name": "Elite",
            "count": 5
           }
          ]
         }
        },
        {
         "name": "_deepnote_index_column",
         "dtype": "int64"
        }
       ],
       "rows_top": [
        {
         "c_Sport": "Swimming",
         "c_Season": 2018,
         "c_Event": "100m Backstroke",
         "c_Gender": "Men",
         "n_DateSort": 20180809,
         "c_Person": "Ryan Murphy",
         "c_PersonNatio": "United States",
         "c_NOC": "United States",
         "c_Result": "51.94",
         "n_ResultSort": 51940,
         "c_Class": "Elite",
         "_deepnote_index_column": 0
        },
        {
         "c_Sport": "Swimming",
         "c_Season": 2018,
         "c_Event": "100m Backstroke",
         "c_Gender": "Men",
         "n_DateSort": 20180822,
         "c_Person": "Xu Jiayu",
         "c_PersonNatio": "China",
         "c_NOC": "China",
         "c_Result": "52.30",
         "n_ResultSort": 52300,
         "c_Class": "Elite",
         "_deepnote_index_column": 1
        },
        {
         "c_Sport": "Swimming",
         "c_Season": 2018,
         "c_Event": "100m Backstroke",
         "c_Gender": "Men",
         "n_DateSort": 20180806,
         "c_Person": "Kliment Kolesnikov",
         "c_PersonNatio": "Russia",
         "c_NOC": "Russia",
         "c_Result": "52.51",
         "n_ResultSort": 52510,
         "c_Class": "Elite",
         "_deepnote_index_column": 2
        },
        {
         "c_Sport": "Swimming",
         "c_Season": 2018,
         "c_Event": "100m Backstroke",
         "c_Gender": "Men",
         "n_DateSort": 20180819,
         "c_Person": "Ryosuke Irie",
         "c_PersonNatio": "Japan",
         "c_NOC": "Japan",
         "c_Result": "52.53",
         "n_ResultSort": 52530,
         "c_Class": "Elite",
         "_deepnote_index_column": 3
        },
        {
         "c_Sport": "Swimming",
         "c_Season": 2018,
         "c_Event": "100m Backstroke",
         "c_Gender": "Men",
         "n_DateSort": 20180728,
         "c_Person": "Matt Grevers",
         "c_PersonNatio": "United States",
         "c_NOC": "United States",
         "c_Result": "52.55",
         "n_ResultSort": 52550,
         "c_Class": "Elite",
         "_deepnote_index_column": 4
        }
       ],
       "rows_bottom": null
      },
      "text/plain": "    c_Sport  c_Season          c_Event c_Gender  n_DateSort  \\\n0  Swimming      2018  100m Backstroke      Men    20180809   \n1  Swimming      2018  100m Backstroke      Men    20180822   \n2  Swimming      2018  100m Backstroke      Men    20180806   \n3  Swimming      2018  100m Backstroke      Men    20180819   \n4  Swimming      2018  100m Backstroke      Men    20180728   \n\n             c_Person  c_PersonNatio          c_NOC c_Result  n_ResultSort  \\\n0         Ryan Murphy  United States  United States    51.94         51940   \n1            Xu Jiayu          China          China    52.30         52300   \n2  Kliment Kolesnikov         Russia         Russia    52.51         52510   \n3        Ryosuke Irie          Japan          Japan    52.53         52530   \n4        Matt Grevers  United States  United States    52.55         52550   \n\n  c_Class  \n0   Elite  \n1   Elite  \n2   Elite  \n3   Elite  \n4   Elite  ",
      "text/html": "<div>\n<style scoped>\n    .dataframe tbody tr th:only-of-type {\n        vertical-align: middle;\n    }\n\n    .dataframe tbody tr th {\n        vertical-align: top;\n    }\n\n    .dataframe thead th {\n        text-align: right;\n    }\n</style>\n<table border=\"1\" class=\"dataframe\">\n  <thead>\n    <tr style=\"text-align: right;\">\n      <th></th>\n      <th>c_Sport</th>\n      <th>c_Season</th>\n      <th>c_Event</th>\n      <th>c_Gender</th>\n      <th>n_DateSort</th>\n      <th>c_Person</th>\n      <th>c_PersonNatio</th>\n      <th>c_NOC</th>\n      <th>c_Result</th>\n      <th>n_ResultSort</th>\n      <th>c_Class</th>\n    </tr>\n  </thead>\n  <tbody>\n    <tr>\n      <th>0</th>\n      <td>Swimming</td>\n      <td>2018</td>\n      <td>100m Backstroke</td>\n      <td>Men</td>\n      <td>20180809</td>\n      <td>Ryan Murphy</td>\n      <td>United States</td>\n      <td>United States</td>\n      <td>51.94</td>\n      <td>51940</td>\n      <td>Elite</td>\n    </tr>\n    <tr>\n      <th>1</th>\n      <td>Swimming</td>\n      <td>2018</td>\n      <td>100m Backstroke</td>\n      <td>Men</td>\n      <td>20180822</td>\n      <td>Xu Jiayu</td>\n      <td>China</td>\n      <td>China</td>\n      <td>52.30</td>\n      <td>52300</td>\n      <td>Elite</td>\n    </tr>\n    <tr>\n      <th>2</th>\n      <td>Swimming</td>\n      <td>2018</td>\n      <td>100m Backstroke</td>\n      <td>Men</td>\n      <td>20180806</td>\n      <td>Kliment Kolesnikov</td>\n      <td>Russia</td>\n      <td>Russia</td>\n      <td>52.51</td>\n      <td>52510</td>\n      <td>Elite</td>\n    </tr>\n    <tr>\n      <th>3</th>\n      <td>Swimming</td>\n      <td>2018</td>\n      <td>100m Backstroke</td>\n      <td>Men</td>\n      <td>20180819</td>\n      <td>Ryosuke Irie</td>\n      <td>Japan</td>\n      <td>Japan</td>\n      <td>52.53</td>\n      <td>52530</td>\n      <td>Elite</td>\n    </tr>\n    <tr>\n      <th>4</th>\n      <td>Swimming</td>\n      <td>2018</td>\n      <td>100m Backstroke</td>\n      <td>Men</td>\n      <td>20180728</td>\n      <td>Matt Grevers</td>\n      <td>United States</td>\n      <td>United States</td>\n      <td>52.55</td>\n      <td>52550</td>\n      <td>Elite</td>\n    </tr>\n  </tbody>\n</table>\n</div>"
     },
     "metadata": {}
    }
   ]
  },
  {
   "cell_type": "markdown",
   "source": "#### 1. Remove ```c_Sport```, ```c_Season``` and ```c_Class``` columns.\n> Because you decide you don't need them...",
   "metadata": {
    "tags": [],
    "cell_id": "00003-a49c99ea-ca5b-4959-bbce-757d147350e7",
    "output_cleared": false,
    "deepnote_cell_type": "markdown"
   }
  },
  {
   "cell_type": "code",
   "metadata": {
    "tags": [],
    "cell_id": "00004-07667433-01db-401a-ad18-e2437750ec8a",
    "output_cleared": true,
    "source_hash": null,
    "execution_millis": 24,
    "execution_start": 1605024790230,
    "deepnote_cell_type": "code"
   },
   "source": "",
   "execution_count": null,
   "outputs": []
  },
  {
   "cell_type": "markdown",
   "source": "#### 2. Output all unique events (```c_Event```).\n> Becasue you want to checkout which Swimming events are in the data.",
   "metadata": {
    "tags": [],
    "cell_id": "00005-4cdacf0c-716f-4671-b911-885ba7c1d343",
    "output_cleared": false,
    "deepnote_cell_type": "markdown"
   }
  },
  {
   "cell_type": "code",
   "metadata": {
    "tags": [],
    "cell_id": "00006-459bd204-1341-45cb-8d0d-ecb2140cddf4",
    "output_cleared": true,
    "source_hash": null,
    "execution_millis": 3,
    "execution_start": 1605024790258,
    "deepnote_cell_type": "code"
   },
   "source": "",
   "execution_count": null,
   "outputs": []
  },
  {
   "cell_type": "markdown",
   "source": "#### 3a. Find all rows with NaN values.\n> Because you want to identify where these values are coming from...more examples [here](https://datatofish.com/rows-with-nan-pandas-dataframe/).",
   "metadata": {
    "tags": [],
    "cell_id": "00005-e0316efe-f8fa-42a2-b1be-1e08d1973043",
    "output_cleared": false,
    "deepnote_cell_type": "markdown"
   }
  },
  {
   "cell_type": "code",
   "metadata": {
    "tags": [],
    "cell_id": "00006-4f25e091-3cff-4502-868c-4cb3e1acaab5",
    "output_cleared": true,
    "source_hash": null,
    "execution_millis": 1,
    "execution_start": 1605024790291,
    "deepnote_cell_type": "code"
   },
   "source": "# Example\n\n# rows_with_nan_values = psb_df[psb_df.isnull().any(axis=1)]\n# rows_with_nan_values",
   "execution_count": null,
   "outputs": []
  },
  {
   "cell_type": "markdown",
   "source": "#### 3b. Find all Unique values in the ```c_Event``` column from the ```rows_with_nan_values``` you created above.\n> Because you want to confirm all the NaN values are coming specificly from relay events maybe???",
   "metadata": {
    "tags": [],
    "cell_id": "00007-21b48232-b8de-41f9-a81e-7ec373050db0",
    "output_cleared": false,
    "deepnote_cell_type": "markdown"
   }
  },
  {
   "cell_type": "code",
   "metadata": {
    "tags": [],
    "cell_id": "00007-8bc53f82-e25d-46ac-9760-6a53f7c68f8e",
    "output_cleared": true,
    "source_hash": null,
    "execution_millis": 1,
    "execution_start": 1605024790295,
    "deepnote_cell_type": "code"
   },
   "source": "",
   "execution_count": null,
   "outputs": []
  },
  {
   "cell_type": "markdown",
   "source": "#### 4. Drop all rows in `psb_df` with a NaN values. \n> There are several solutions here...you could actually try provide a value for the missing data...however, in this instance, you decide it's ok to just drop all the rows with NaN values.",
   "metadata": {
    "tags": [],
    "cell_id": "00009-692c5343-ef3b-41c3-b3c3-a46c63697173",
    "output_cleared": false,
    "deepnote_cell_type": "markdown"
   }
  },
  {
   "cell_type": "code",
   "metadata": {
    "tags": [],
    "cell_id": "00010-869e7877-d36b-4b4c-b593-7cdb92245957",
    "output_cleared": true,
    "source_hash": null,
    "execution_millis": 0,
    "execution_start": 1605024790326,
    "deepnote_cell_type": "code"
   },
   "source": "",
   "execution_count": null,
   "outputs": []
  },
  {
   "cell_type": "markdown",
   "source": "#### 5. Reset the Index\n> Because you've removed some rows, you decide to reset your Dataframe's index (not nessesity in this case, but good practice to do so)",
   "metadata": {
    "tags": [],
    "cell_id": "00011-dcbcf6eb-16df-4e44-b6ff-30d42251e591",
    "output_cleared": false,
    "deepnote_cell_type": "markdown"
   }
  },
  {
   "cell_type": "code",
   "metadata": {
    "tags": [],
    "cell_id": "00011-61200386-6165-42e9-bcb9-436f9e0d9193",
    "output_cleared": true,
    "source_hash": null,
    "execution_millis": 77,
    "execution_start": 1605024790329,
    "deepnote_cell_type": "code"
   },
   "source": "",
   "execution_count": null,
   "outputs": []
  },
  {
   "cell_type": "markdown",
   "source": "#### 6. Rename all the column headers in the dataframe, so each header makes sense to you...\n> e.g. rename ```c_Person``` to ```athlete```...",
   "metadata": {
    "tags": [],
    "cell_id": "00011-db8ece80-e027-4107-8b16-bf716f971789",
    "output_cleared": false,
    "deepnote_cell_type": "markdown"
   }
  },
  {
   "cell_type": "code",
   "metadata": {
    "tags": [],
    "cell_id": "00012-bd065eb9-4ab7-4f6c-965b-f1d901ab794b",
    "output_cleared": true,
    "source_hash": null,
    "execution_millis": 74,
    "execution_start": 1605024790408,
    "deepnote_cell_type": "code"
   },
   "source": "",
   "execution_count": null,
   "outputs": []
  },
  {
   "cell_type": "markdown",
   "source": "#### 7. Transform each value in the ```date_sort``` column into a DateTime Object using the [```.to_datetime```](https://pandas.pydata.org/pandas-docs/stable/reference/api/pandas.to_datetime.html) method.\n> Because it's better to handle dates as actual DateTime objects in Python...",
   "metadata": {
    "tags": [],
    "cell_id": "00015-a0967797-f969-4791-8792-8876039bc0ce",
    "output_cleared": false,
    "deepnote_cell_type": "markdown"
   }
  },
  {
   "cell_type": "code",
   "metadata": {
    "tags": [],
    "cell_id": "00015-271e3730-2f1a-4a84-a0ee-7e0df28b71c4",
    "output_cleared": true,
    "source_hash": null,
    "execution_millis": 27,
    "execution_start": 1605024790485,
    "deepnote_cell_type": "code"
   },
   "source": "",
   "execution_count": null,
   "outputs": []
  },
  {
   "cell_type": "markdown",
   "source": "#### 8. Create a column for each athlete's ```first name``` and ```last name```.\n> Seems futile, but you decide this may save you ALOT of time in the future...",
   "metadata": {
    "tags": [],
    "cell_id": "00017-fbbc3127-49b3-4117-8cdd-59622a1baecd",
    "output_cleared": false,
    "deepnote_cell_type": "markdown"
   }
  },
  {
   "cell_type": "code",
   "metadata": {
    "tags": [],
    "cell_id": "00020-b278be5d-8ca5-45b8-95b3-2405a58fdba1",
    "deepnote_cell_type": "code"
   },
   "source": "",
   "execution_count": null,
   "outputs": []
  },
  {
   "cell_type": "markdown",
   "source": "#### Finale: Have a final Dataframe that contains only the top (up to 4) Great British swimmers for each event and gender. Then save this data into a new csv or json file.\n> Hint: The dataset you have been handling is already sorted and grouped. Fastest swimmers (top four) would be at the top of each group (gender/event).",
   "metadata": {
    "tags": [],
    "cell_id": "00019-e94947b8-bf60-4dbe-887b-752541a792a6",
    "output_cleared": false,
    "deepnote_cell_type": "markdown"
   }
  },
  {
   "cell_type": "code",
   "metadata": {
    "tags": [],
    "cell_id": "00020-036b19fc-0205-4b6f-b1b2-152419cab621",
    "output_cleared": false,
    "source_hash": "8fef8c08",
    "execution_millis": 0,
    "execution_start": 1605024790563,
    "deepnote_cell_type": "code"
   },
   "source": "",
   "execution_count": null,
   "outputs": []
  },
  {
   "cell_type": "markdown",
   "source": "### Bonus\n\n**The aim is to create a visualisation** that shows the performance standards for each gender and event relative to the respective world record at the time. This visualisation uses world record times (2018) found in the `world_records_swimming.json` file (`data` folder). To enable a visualisation that can show both genders and all the events, at once, requires us to standardise the results data. We can do this by creating another ***result*** that is the relevent world record as a percentage of the actual result e.g.\n\n\n> **Men 100m Backstroke - Ryan Murphy, United States - `51.94` (seconds) or `51940` (milliseconds)**\n",
   "metadata": {
    "tags": [],
    "cell_id": "00021-ca89e6b2-33b6-47ef-a376-cd61cf5ea16c",
    "output_cleared": false,
    "deepnote_cell_type": "markdown"
   }
  },
  {
   "cell_type": "code",
   "metadata": {
    "tags": [],
    "cell_id": "00023-bc6acf28-4297-41a6-85ce-0fc681f31efd",
    "deepnote_to_be_reexecuted": false,
    "source_hash": "37a70090",
    "execution_millis": 8,
    "execution_start": 1616760897575,
    "deepnote_cell_type": "code"
   },
   "source": "import json\n\nwrs = json.load(open('data/world_records_swimming.json'))\n\nwr_secs = float(wrs['Men']['100m Backstroke'])\nresult = 51.94\n\nwr_percentage = wr_secs / result * 100\n\nround(wr_percentage, 2)\n",
   "execution_count": null,
   "outputs": [
    {
     "output_type": "execute_result",
     "execution_count": 19,
     "data": {
      "text/plain": "99.83"
     },
     "metadata": {}
    }
   ]
  },
  {
   "cell_type": "markdown",
   "source": "> Hints\n\n1. Include any relevant cleaning steps in the cell below before attempting to create the new column with the percentage data.\n2. Note that some of the world record times are not in seconds. It may be an idea to reformat the world records into milliseconds?\n3. We import [```seaborn```](https://seaborn.pydata.org/generated/seaborn.violinplot.html) to create the Violin Plots. e.g. https://seaborn.pydata.org/generated/seaborn.violinplot.html",
   "metadata": {
    "tags": [],
    "cell_id": "00024-be2d155b-83b0-4b33-bee5-9dfcbf47da5c",
    "deepnote_cell_type": "markdown"
   }
  },
  {
   "cell_type": "code",
   "metadata": {
    "tags": [],
    "cell_id": "00021-e6cb99c4-380d-4399-b88b-88a14765a1cc",
    "output_cleared": true,
    "source_hash": "813e3732",
    "execution_millis": 2929,
    "allow_embed": false,
    "deepnote_to_be_reexecuted": false,
    "execution_start": 1616761591029,
    "deepnote_cell_type": "code"
   },
   "source": "import json\nimport pandas as pd\nimport seaborn as sns\n\nwrs = json.load(open('data/world_records_swimming.json'))  # Pandas is not always nessisary when handling data, a simple dictionary can be far simpler to handle ;)\n\npsb_viz_df = pd.read_csv('data/swimming_psb_data.csv')\n",
   "execution_count": null,
   "outputs": []
  },
  {
   "cell_type": "markdown",
   "source": "##### Reference Image\n![BonusViz](./data/swimming_challenge.png)",
   "metadata": {
    "tags": [],
    "cell_id": "00026-cee68b18-133c-4995-94d2-793d3df95d8f",
    "deepnote_cell_type": "markdown"
   }
  },
  {
   "cell_type": "markdown",
   "source": "<a style='text-decoration:none;line-height:16px;display:flex;color:#5B5B62;padding:10px;justify-content:end;' href='https://deepnote.com?utm_source=created-in-deepnote-cell&projectId=01834284-5a22-433a-9a28-a120736ff2ec' target=\"_blank\">\n<img alt='Created in deepnote.com' style='display:inline;max-height:16px;margin:0px;margin-right:7.5px;' src='data:image/svg+xml;base64,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' > </img>\nCreated in <span style='font-weight:600;margin-left:4px;'>Deepnote</span></a>",
   "metadata": {
    "tags": [],
    "created_in_deepnote_cell": true,
    "deepnote_cell_type": "markdown"
   }
  }
 ],
 "nbformat": 4,
 "nbformat_minor": 2,
 "metadata": {
  "orig_nbformat": 2,
  "deepnote_notebook_id": "db855838-4416-4c70-90ed-c5f6aa21e6af",
  "deepnote_execution_queue": [],
  "deepnote": {}
 }
}